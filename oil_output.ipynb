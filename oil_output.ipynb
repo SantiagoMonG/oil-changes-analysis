{
 "cells": [
  {
   "cell_type": "markdown",
   "id": "050b32e4-c478-429b-aa9f-a1936abadfe5",
   "metadata": {},
   "source": [
    "## Figure 1"
   ]
  },
  {
   "cell_type": "code",
   "execution_count": null,
   "id": "bb12a8ff-cdee-4d80-83b7-f2351f5cd645",
   "metadata": {},
   "outputs": [],
   "source": [
    "import pandas as pd\n",
    "import matplotlib.pyplot as plt\n",
    "import matplotlib.ticker as mticker"
   ]
  },
  {
   "cell_type": "code",
   "execution_count": null,
   "id": "e277f1a6-ce96-4990-bba7-e0fbb753f358",
   "metadata": {},
   "outputs": [],
   "source": [
    "core_pce = pd.read_csv(\"core_pce.csv\")\n",
    "core_pce['date'] = pd.to_datetime(core_pce['date'], dayfirst=True)\n",
    "core_pce.set_index('date', inplace=True)"
   ]
  },
  {
   "cell_type": "code",
   "execution_count": null,
   "id": "ef3f9070-6c33-4191-a5a6-0439ba66c875",
   "metadata": {},
   "outputs": [],
   "source": [
    "print(core_pce.head())"
   ]
  },
  {
   "cell_type": "code",
   "execution_count": null,
   "id": "2f0a5afa-5332-44ae-a0bf-26589abdf553",
   "metadata": {},
   "outputs": [],
   "source": [
    "quarterly_pce = core_pce.resample('Q').mean()\n",
    "quarterly_pce.index = quarterly_pce.index.to_period('Q')"
   ]
  },
  {
   "cell_type": "code",
   "execution_count": null,
   "id": "d12429da-ab3d-4b4f-85cd-a4768fadfede",
   "metadata": {
    "scrolled": true
   },
   "outputs": [],
   "source": [
    "print(quarterly_pce.head())"
   ]
  },
  {
   "cell_type": "code",
   "execution_count": null,
   "id": "98e508a8-13f1-4943-8925-b63439a5f2fb",
   "metadata": {},
   "outputs": [],
   "source": [
    "quarterly_pce['YoY Inflation (%)'] = quarterly_pce['core_pce'].pct_change(periods=4) * 100"
   ]
  },
  {
   "cell_type": "code",
   "execution_count": null,
   "id": "a2e17b49-9634-4f7a-bd4a-e322ddf21cee",
   "metadata": {},
   "outputs": [],
   "source": [
    "print(quarterly_pce.head(15))"
   ]
  },
  {
   "cell_type": "code",
   "execution_count": null,
   "id": "32856466-ccda-4e8e-a1f3-70e4476ef7b8",
   "metadata": {},
   "outputs": [],
   "source": [
    "plot_data = quarterly_pce.loc['2008Q4':]"
   ]
  },
  {
   "cell_type": "code",
   "execution_count": null,
   "id": "ff77a50b-c083-4d24-9bf9-1ae9307b717a",
   "metadata": {},
   "outputs": [],
   "source": [
    "x_axis_labels = plot_data.index.astype(str)\n",
    "y_values = plot_data['YoY Inflation (%)']"
   ]
  },
  {
   "cell_type": "code",
   "execution_count": null,
   "id": "64af5695-3c5b-437c-b637-5685e903f5fa",
   "metadata": {},
   "outputs": [],
   "source": [
    "q4_ticks = [i for i, period in enumerate(plot_data.index) if period.quarter == 4]\n",
    "q4_labels = [str(period) for i, period in enumerate(plot_data.index) if period.quarter == 4]"
   ]
  },
  {
   "cell_type": "code",
   "execution_count": null,
   "id": "db66cce2-c739-4f4b-ae78-70d17368887c",
   "metadata": {},
   "outputs": [],
   "source": [
    "plt.figure(figsize=(10, 6))\n",
    "plt.plot(x_axis_labels, y_values, label='Core PCE Inflation', color='skyblue', linewidth=4)\n",
    "plt.axhline(y=2, color='navy', linestyle='--', label=\"2% Target\", linewidth=4)\n",
    "plt.title('Figure 1: Inflation Since 2008 Q4 (Annual Rates)', fontsize=16)\n",
    "plt.ylabel('Year-over-Year Inflation Rate (%)', fontsize=12)\n",
    "plt.ylim(0, 2.5)\n",
    "\n",
    "plt.gca().grid(axis='y', linestyle=':', linewidth=0.75, color='gray')\n",
    "\n",
    "plt.xticks(ticks=q4_ticks, labels=q4_labels)\n",
    "plt.gca().yaxis.set_major_formatter(mticker.FuncFormatter(lambda x, _: f\"{x:.2f}\"))\n",
    "\n",
    "plt.legend(loc='upper center', bbox_to_anchor=(0.5, -0.15), ncol=2, fontsize=10)\n",
    "\n",
    "plt.show()"
   ]
  },
  {
   "cell_type": "markdown",
   "id": "d1cf98f3-7d0a-4066-bf93-fb09653c58df",
   "metadata": {},
   "source": [
    "## Figure 2"
   ]
  },
  {
   "cell_type": "code",
   "execution_count": null,
   "id": "e3c37f6b-d679-43f2-b419-f2355f620e75",
   "metadata": {},
   "outputs": [],
   "source": [
    "rebased_core_pce = pd.read_csv(\"rebased_core_pce.csv\")\n",
    "rebased_core_pce['date'] = pd.to_datetime(rebased_core_pce['date'], dayfirst=True)\n",
    "rebased_core_pce.set_index('date', inplace=True)"
   ]
  },
  {
   "cell_type": "code",
   "execution_count": null,
   "id": "73d1043c-bd6d-4912-9963-ede857ad5d3c",
   "metadata": {},
   "outputs": [],
   "source": [
    "base_date = '2009-01-01'\n",
    "base_value = 100"
   ]
  },
  {
   "cell_type": "code",
   "execution_count": null,
   "id": "ac7c53f4-6905-424a-8dfa-a0c7cbf0760b",
   "metadata": {},
   "outputs": [],
   "source": [
    "monthly_growth_factor = (1 + 0.02)**(1 / 12)"
   ]
  },
  {
   "cell_type": "code",
   "execution_count": null,
   "id": "64f5fdc0-da42-4f9c-b6d5-2d6ea046245c",
   "metadata": {},
   "outputs": [],
   "source": [
    "rebased_core_pce['target_price_level'] = base_value * (\n",
    "    monthly_growth_factor ** rebased_core_pce.index.to_series().sub(pd.Timestamp(base_date)).dt.days.div(30.44)\n",
    ")"
   ]
  },
  {
   "cell_type": "code",
   "execution_count": null,
   "id": "7ae5905c-4582-43c1-a596-bf71b3549301",
   "metadata": {},
   "outputs": [],
   "source": [
    "quarterly_rebased = rebased_core_pce.resample('Q').mean()\n",
    "quarterly_rebased.index = quarterly_rebased.index.to_period('Q')\n",
    "quarterly_rebased.head()"
   ]
  },
  {
   "cell_type": "code",
   "execution_count": null,
   "id": "a0321ad3-1576-4a1a-b8d4-e12581235b6b",
   "metadata": {},
   "outputs": [],
   "source": [
    "plot_data = quarterly_rebased.loc['2008Q4':]"
   ]
  },
  {
   "cell_type": "code",
   "execution_count": null,
   "id": "cff49a7b-896c-4809-8259-7b689f9ab736",
   "metadata": {},
   "outputs": [],
   "source": [
    "x_axis_labels = plot_data.index.astype(str)\n",
    "y_values = plot_data['rebased_core_pce']\n",
    "target_values = plot_data['target_price_level']"
   ]
  },
  {
   "cell_type": "code",
   "execution_count": null,
   "id": "22321d9a-a45a-4dce-85fe-dd38ed6ffb7d",
   "metadata": {},
   "outputs": [],
   "source": [
    "q4_ticks = [i for i, period in enumerate(plot_data.index) if period.quarter == 4]\n",
    "q4_labels = [str(period) for i, period in enumerate(plot_data.index) if period.quarter == 4]"
   ]
  },
  {
   "cell_type": "code",
   "execution_count": null,
   "id": "d9d79619-7d0f-4d96-9284-6f7ad4336218",
   "metadata": {},
   "outputs": [],
   "source": [
    "plt.figure(figsize=(10, 6))\n",
    "plt.plot(x_axis_labels, y_values, label='Core PCE Price Index', color='skyblue', linewidth=4)\n",
    "plt.plot(x_axis_labels, target_values, label='2% Target', linestyle='--', color='navy', linewidth=4)\n",
    "plt.title('Figure 2: Price Level Since 2008 Q4', fontsize=16)\n",
    "plt.ylabel('Index Level (2009Q1 = 100)', fontsize=12)\n",
    "plt.ylim(90, 120)\n",
    "\n",
    "plt.gca().grid(axis='y', linestyle=':', linewidth=0.75, color='gray')\n",
    "\n",
    "plt.xticks(ticks=q4_ticks, labels=q4_labels)\n",
    "\n",
    "plt.gca().yaxis.set_major_formatter(mticker.FuncFormatter(lambda x, _: f\"{int(x)}\"))\n",
    "\n",
    "plt.legend(loc='upper center', bbox_to_anchor=(0.5, -0.15), ncol=2, fontsize=10)\n",
    "\n",
    "plt.show()"
   ]
  },
  {
   "cell_type": "markdown",
   "id": "a4e8d345-14dd-43ea-9a7e-2dbd280b8d87",
   "metadata": {},
   "source": [
    "## Figure 3"
   ]
  },
  {
   "cell_type": "code",
   "execution_count": null,
   "id": "35486dab-5733-4b40-b64c-aa68d0b25dd0",
   "metadata": {},
   "outputs": [],
   "source": [
    "import numpy as np"
   ]
  },
  {
   "cell_type": "code",
   "execution_count": null,
   "id": "83e89742-de6e-4a04-b7f1-60bc7b9a58b8",
   "metadata": {},
   "outputs": [],
   "source": [
    "data = pd.read_csv('ra_coding_data.csv')\n",
    "data['date'] = pd.to_datetime(data['date'])"
   ]
  },
  {
   "cell_type": "code",
   "execution_count": null,
   "id": "051cbb33-225b-44c6-af6f-8d53b4253694",
   "metadata": {},
   "outputs": [],
   "source": [
    "for col in ['wti', 'copper', 'dollar']:\n",
    "    data[f'dlog_{col}'] = np.log(data[col]).diff()"
   ]
  },
  {
   "cell_type": "code",
   "execution_count": null,
   "id": "941d079e-70cc-4624-9290-2053659bd100",
   "metadata": {},
   "outputs": [],
   "source": [
    "data['d_tenyear'] = data['tenyear'].diff()"
   ]
  },
  {
   "cell_type": "code",
   "execution_count": null,
   "id": "237aaf7d-bd58-412b-8999-b29bb9fa2bbd",
   "metadata": {},
   "outputs": [],
   "source": [
    "data = data.dropna().reset_index(drop=True)\n",
    "data.head()"
   ]
  },
  {
   "cell_type": "code",
   "execution_count": null,
   "id": "2c5202c3-e564-4dd0-9ed5-eabef04f07dd",
   "metadata": {},
   "outputs": [],
   "source": [
    "import statsmodels.api as sm\n",
    "from statsmodels.stats.sandwich_covariance import cov_hac"
   ]
  },
  {
   "cell_type": "code",
   "execution_count": null,
   "id": "1ebce3f5-b6db-4069-bcaa-e4a2eddfc5e3",
   "metadata": {},
   "outputs": [],
   "source": [
    "start_date = '2011-06-01'\n",
    "end_date = '2014-06-01'\n",
    "regression_data = data[(data['date'] >= start_date) & (data['date'] <= end_date)]"
   ]
  },
  {
   "cell_type": "code",
   "execution_count": null,
   "id": "85cdbc71-a61b-4566-b98b-faa4c1e731e1",
   "metadata": {},
   "outputs": [],
   "source": [
    "X = regression_data[['dlog_copper', 'dlog_dollar', 'd_tenyear']]\n",
    "y = regression_data['dlog_wti']"
   ]
  },
  {
   "cell_type": "code",
   "execution_count": null,
   "id": "12de7e63-fcff-4128-8a8f-c8bc0aa21600",
   "metadata": {},
   "outputs": [],
   "source": [
    "model = sm.OLS(y, X).fit()\n",
    "nw_results = model.get_robustcov_results(cov_type=\"HAC\", maxlags=5)"
   ]
  },
  {
   "cell_type": "code",
   "execution_count": null,
   "id": "4648bc28-afce-45bc-9486-adeac3242eab",
   "metadata": {},
   "outputs": [],
   "source": [
    "nw_results.summary()"
   ]
  },
  {
   "cell_type": "code",
   "execution_count": null,
   "id": "c3b5526e-f712-4cb2-a2b9-69a1e6443e79",
   "metadata": {},
   "outputs": [],
   "source": [
    "prediction_data = data[data['date'] > '2014-06-01']"
   ]
  },
  {
   "cell_type": "code",
   "execution_count": null,
   "id": "5c9034b5-d4b8-4961-a5f7-b57db6a72b97",
   "metadata": {},
   "outputs": [],
   "source": [
    "coeff_copper = nw_results.params[0]\n",
    "coeff_dollar = nw_results.params[1]\n",
    "coeff_tenyear = nw_results.params[2]"
   ]
  },
  {
   "cell_type": "code",
   "execution_count": null,
   "id": "accf8c4a-ae2c-4278-8406-eaa5bb7cba70",
   "metadata": {},
   "outputs": [],
   "source": [
    "prediction_data['dlog_wti_predicted'] = (\n",
    "    coeff_copper * prediction_data['dlog_copper'] +\n",
    "    coeff_dollar * prediction_data['dlog_dollar'] +\n",
    "    coeff_tenyear * prediction_data['d_tenyear']\n",
    ")"
   ]
  },
  {
   "cell_type": "code",
   "execution_count": null,
   "id": "0dd7b249-8870-4b9e-8e93-9300231d8e31",
   "metadata": {},
   "outputs": [],
   "source": [
    "prediction_data['wti_predicted'] = prediction_data['dlog_wti_predicted'].cumsum().apply(np.exp)"
   ]
  },
  {
   "cell_type": "code",
   "execution_count": null,
   "id": "93f1d139-1abb-4ebe-bea9-77db016bb278",
   "metadata": {},
   "outputs": [],
   "source": [
    "start_price_date = data[data['date'] <= '2014-06-01'].iloc[-1]\n",
    "start_price = start_price_date['wti']"
   ]
  },
  {
   "cell_type": "code",
   "execution_count": null,
   "id": "fb3161b0-ef05-471a-becb-17ec067dfd98",
   "metadata": {},
   "outputs": [],
   "source": [
    "prediction_data['wti_predicted'] *= start_price"
   ]
  },
  {
   "cell_type": "code",
   "execution_count": null,
   "id": "bd1cecbc-cdd8-4761-ad1e-48772bae7153",
   "metadata": {},
   "outputs": [],
   "source": [
    "prediction_data['wti_actual'] = prediction_data['wti']"
   ]
  },
  {
   "cell_type": "code",
   "execution_count": null,
   "id": "655b385c-8b48-4c3f-bca1-0b5a2c1f4531",
   "metadata": {},
   "outputs": [],
   "source": [
    "full_data = data.copy()\n",
    "full_data['wti_predicted'] = None"
   ]
  },
  {
   "cell_type": "code",
   "execution_count": null,
   "id": "75018f29-a32b-48e5-8950-c1066cf806f8",
   "metadata": {},
   "outputs": [],
   "source": [
    "full_data.loc[full_data['date'] > '2014-06-01', 'wti_predicted'] = prediction_data['wti_predicted']"
   ]
  },
  {
   "cell_type": "code",
   "execution_count": null,
   "id": "86151422-e909-408a-ba85-df5abed924b9",
   "metadata": {},
   "outputs": [],
   "source": [
    "plt.figure(figsize=(12, 6))\n",
    "plt.plot(full_data['date'], full_data['wti'], label='Actual WTI', color='navy', linewidth=2)\n",
    "plt.plot(full_data['date'], full_data['wti_predicted'], label='Oil Demand Only', color='skyblue', linewidth=2)\n",
    "plt.title('WTI Crude Estimated Demand Effect', fontsize=14)\n",
    "plt.xlabel('Date', fontsize=12)\n",
    "plt.ylabel('Dollars per Barrel', fontsize=12)\n",
    "plt.ylim(0, 120)\n",
    "plt.legend(fontsize=12)\n",
    "plt.grid(True)\n",
    "plt.show()"
   ]
  },
  {
   "cell_type": "code",
   "execution_count": null,
   "id": "1b173374-7389-4821-9394-d7017ff644dc",
   "metadata": {},
   "outputs": [],
   "source": [
    "new_file = 'predicted_wti_data.csv'\n",
    "full_data.to_csv(new_file, index=False)\n",
    "\n",
    "new_file"
   ]
  }
 ],
 "metadata": {
  "kernelspec": {
   "display_name": "Python 3 (ipykernel)",
   "language": "python",
   "name": "python3"
  },
  "language_info": {
   "codemirror_mode": {
    "name": "ipython",
    "version": 3
   },
   "file_extension": ".py",
   "mimetype": "text/x-python",
   "name": "python",
   "nbconvert_exporter": "python",
   "pygments_lexer": "ipython3",
   "version": "3.12.4"
  }
 },
 "nbformat": 4,
 "nbformat_minor": 5
}
